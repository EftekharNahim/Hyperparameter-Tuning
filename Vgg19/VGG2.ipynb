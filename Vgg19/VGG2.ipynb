{
 "cells": [
  {
   "cell_type": "code",
   "execution_count": 1,
   "metadata": {
    "colab": {
     "base_uri": "https://localhost:8080/"
    },
    "id": "nTULhii7zf-0",
    "outputId": "00dbb2e2-d3ab-439c-d004-95829b508f22"
   },
   "outputs": [],
   "source": [
    "# from google.colab import drive\n",
    "# drive.mount('/content/gdrive')"
   ]
  },
  {
   "cell_type": "code",
   "execution_count": 2,
   "metadata": {
    "id": "o0PrKCKac-2K"
   },
   "outputs": [],
   "source": [
    "# from zipfile import ZipFile\n",
    "# file_name = 'archive.zip'\n",
    "# with ZipFile(file_name,'r') as zip:\n",
    "#   zip.extractall()\n",
    "#   print(\"Done..\")"
   ]
  },
  {
   "cell_type": "markdown",
   "metadata": {
    "id": "n_CJOBnRxZ4O"
   },
   "source": [
    "## Libraries"
   ]
  },
  {
   "cell_type": "code",
   "execution_count": 3,
   "metadata": {
    "id": "wK2Qlurewt6C"
   },
   "outputs": [],
   "source": [
    "import cv2\n",
    "import os\n",
    "import tensorflow as tf\n",
    "import pandas as pd\n",
    "import numpy as np\n",
    "import matplotlib.pyplot as plt\n",
    "from matplotlib.pyplot import *\n",
    "from sklearn.model_selection import train_test_split\n",
    "from tensorflow.keras import datasets, layers, models"
   ]
  },
  {
   "cell_type": "markdown",
   "metadata": {
    "id": "97i-QE7BxjJZ"
   },
   "source": [
    "## Preprocessing(Training Data)"
   ]
  },
  {
   "cell_type": "code",
   "execution_count": 4,
   "metadata": {
    "id": "pHufzfFnwuLY"
   },
   "outputs": [],
   "source": [
    "d = os.path.join(\"../../Training Image Data/Training_Data(80)/train\")\n",
    "classes = ['Glass', 'Metal', 'Paper', 'Plastic', 'Trash']"
   ]
  },
  {
   "cell_type": "code",
   "execution_count": 5,
   "metadata": {
    "colab": {
     "base_uri": "https://localhost:8080/"
    },
    "id": "DYaTfLalwuRP",
    "outputId": "05a2b40a-2296-4fe1-a7a9-c37552083f26"
   },
   "outputs": [
    {
     "name": "stdout",
     "output_type": "stream",
     "text": [
      "Images of label \"Glass\":\t 1448\n",
      "Images of label \"Metal\":\t 1485\n",
      "Images of label \"Paper\":\t 1491\n",
      "Images of label \"Plastic\":\t 1421\n",
      "Images of label \"Trash\":\t 1763\n"
     ]
    }
   ],
   "source": [
    "for label in classes:\n",
    "    directory = os.path.join(d, label)\n",
    "    print(\"Images of label \\\"\" + label + \"\\\":\\t\", len(os.listdir(directory)))"
   ]
  },
  {
   "cell_type": "code",
   "execution_count": 6,
   "metadata": {
    "id": "hfZmisfHwuTc"
   },
   "outputs": [],
   "source": [
    "data=[]\n",
    "for c in classes:\n",
    "    i=classes.index(c)\n",
    "    path=os.path.join(d,c)\n",
    "    for img in os.listdir(path):\n",
    "        im=cv2.imread(os.path.join(path,img))\n",
    "        im=cv2.resize(im,(224,224))\n",
    "        data.append([im,i])"
   ]
  },
  {
   "cell_type": "code",
   "execution_count": 7,
   "metadata": {
    "id": "NB_-jkSvwuXj"
   },
   "outputs": [],
   "source": [
    "X=[]\n",
    "Y=[]\n",
    "for x,y in data:\n",
    "    X.append(x)\n",
    "    Y.append(y)"
   ]
  },
  {
   "cell_type": "code",
   "execution_count": 8,
   "metadata": {
    "colab": {
     "base_uri": "https://localhost:8080/"
    },
    "id": "J79RUm1jwubG",
    "outputId": "93b62895-ced2-4954-811d-799840d228d4"
   },
   "outputs": [
    {
     "name": "stdout",
     "output_type": "stream",
     "text": [
      "(7608, 224, 224, 3) (7608,)\n"
     ]
    }
   ],
   "source": [
    "x_train=np.array(X)\n",
    "y_train=np.array(Y)\n",
    "print(x_train.shape,y_train.shape)"
   ]
  },
  {
   "cell_type": "markdown",
   "metadata": {
    "colab": {
     "base_uri": "https://localhost:8080/"
    },
    "id": "wDlL7FB9wueW",
    "outputId": "21180749-6811-4842-ceed-3e496924e3b9"
   },
   "source": [
    "## Preprocessing(Testing Data)"
   ]
  },
  {
   "cell_type": "code",
   "execution_count": 9,
   "metadata": {},
   "outputs": [],
   "source": [
    "d = os.path.join(\"../../Training Image Data/Training_Data(80)/val\")\n",
    "classes = ['Glass', 'Metal', 'Paper', 'Plastic', 'Trash']"
   ]
  },
  {
   "cell_type": "code",
   "execution_count": 10,
   "metadata": {},
   "outputs": [
    {
     "name": "stdout",
     "output_type": "stream",
     "text": [
      "Images of label \"Glass\":\t 371\n",
      "Images of label \"Metal\":\t 371\n",
      "Images of label \"Paper\":\t 373\n",
      "Images of label \"Plastic\":\t 357\n",
      "Images of label \"Trash\":\t 441\n"
     ]
    }
   ],
   "source": [
    "for label in classes:\n",
    "    directory = os.path.join(d, label)\n",
    "    print(\"Images of label \\\"\" + label + \"\\\":\\t\", len(os.listdir(directory)))"
   ]
  },
  {
   "cell_type": "code",
   "execution_count": 11,
   "metadata": {},
   "outputs": [],
   "source": [
    "data=[]\n",
    "for c in classes:\n",
    "    i=classes.index(c)\n",
    "    path=os.path.join(d,c)\n",
    "    for img in os.listdir(path):\n",
    "        im=cv2.imread(os.path.join(path,img))\n",
    "        im=cv2.resize(im,(224,224))\n",
    "        data.append([im,i])"
   ]
  },
  {
   "cell_type": "code",
   "execution_count": 12,
   "metadata": {},
   "outputs": [],
   "source": [
    "X=[]\n",
    "Y=[]\n",
    "for x,y in data:\n",
    "    X.append(x)\n",
    "    Y.append(y)"
   ]
  },
  {
   "cell_type": "code",
   "execution_count": 13,
   "metadata": {},
   "outputs": [
    {
     "name": "stdout",
     "output_type": "stream",
     "text": [
      "(1913, 224, 224, 3) (1913,)\n"
     ]
    }
   ],
   "source": [
    "x_test=np.array(X)\n",
    "y_test=np.array(Y)\n",
    "print(x_test.shape,y_test.shape)"
   ]
  },
  {
   "cell_type": "code",
   "execution_count": 14,
   "metadata": {},
   "outputs": [
    {
     "name": "stdout",
     "output_type": "stream",
     "text": [
      "(7608, 224, 224, 3) (7608,)\n",
      "(1913, 224, 224, 3) (1913,)\n"
     ]
    }
   ],
   "source": [
    "x_train = x_train / 255.0\n",
    "x_test = x_test / 255.0\n",
    "\n",
    "print(x_train.shape,y_train.shape)\n",
    "print(x_test.shape,y_test.shape)"
   ]
  },
  {
   "cell_type": "markdown",
   "metadata": {
    "id": "AJ4PrHBox3wQ"
   },
   "source": [
    "## Build Model"
   ]
  },
  {
   "cell_type": "code",
   "execution_count": 15,
   "metadata": {
    "colab": {
     "base_uri": "https://localhost:8080/"
    },
    "id": "hYeVTNU1wugt",
    "outputId": "14e19437-93c5-438f-b44c-814d35dbf52f"
   },
   "outputs": [],
   "source": [
    "model_vgg19=tf.keras.applications.vgg19.VGG19(\n",
    "    input_shape=None,\n",
    "    include_top=True,\n",
    "    weights='imagenet',\n",
    "    input_tensor=None,\n",
    "    pooling=None,\n",
    "    classes=1000,\n",
    "    classifier_activation='softmax'\n",
    ")"
   ]
  },
  {
   "cell_type": "code",
   "execution_count": 16,
   "metadata": {
    "colab": {
     "base_uri": "https://localhost:8080/"
    },
    "id": "cPVZUVLvx7HV",
    "outputId": "122b6cf4-9627-4d80-a52d-d3415543a00c"
   },
   "outputs": [
    {
     "name": "stdout",
     "output_type": "stream",
     "text": [
      "Model: \"vgg19\"\n",
      "_________________________________________________________________\n",
      " Layer (type)                Output Shape              Param #   \n",
      "=================================================================\n",
      " input_1 (InputLayer)        [(None, 224, 224, 3)]     0         \n",
      "                                                                 \n",
      " block1_conv1 (Conv2D)       (None, 224, 224, 64)      1792      \n",
      "                                                                 \n",
      " block1_conv2 (Conv2D)       (None, 224, 224, 64)      36928     \n",
      "                                                                 \n",
      " block1_pool (MaxPooling2D)  (None, 112, 112, 64)      0         \n",
      "                                                                 \n",
      " block2_conv1 (Conv2D)       (None, 112, 112, 128)     73856     \n",
      "                                                                 \n",
      " block2_conv2 (Conv2D)       (None, 112, 112, 128)     147584    \n",
      "                                                                 \n",
      " block2_pool (MaxPooling2D)  (None, 56, 56, 128)       0         \n",
      "                                                                 \n",
      " block3_conv1 (Conv2D)       (None, 56, 56, 256)       295168    \n",
      "                                                                 \n",
      " block3_conv2 (Conv2D)       (None, 56, 56, 256)       590080    \n",
      "                                                                 \n",
      " block3_conv3 (Conv2D)       (None, 56, 56, 256)       590080    \n",
      "                                                                 \n",
      " block3_conv4 (Conv2D)       (None, 56, 56, 256)       590080    \n",
      "                                                                 \n",
      " block3_pool (MaxPooling2D)  (None, 28, 28, 256)       0         \n",
      "                                                                 \n",
      " block4_conv1 (Conv2D)       (None, 28, 28, 512)       1180160   \n",
      "                                                                 \n",
      " block4_conv2 (Conv2D)       (None, 28, 28, 512)       2359808   \n",
      "                                                                 \n",
      " block4_conv3 (Conv2D)       (None, 28, 28, 512)       2359808   \n",
      "                                                                 \n",
      " block4_conv4 (Conv2D)       (None, 28, 28, 512)       2359808   \n",
      "                                                                 \n",
      " block4_pool (MaxPooling2D)  (None, 14, 14, 512)       0         \n",
      "                                                                 \n",
      " block5_conv1 (Conv2D)       (None, 14, 14, 512)       2359808   \n",
      "                                                                 \n",
      " block5_conv2 (Conv2D)       (None, 14, 14, 512)       2359808   \n",
      "                                                                 \n",
      " block5_conv3 (Conv2D)       (None, 14, 14, 512)       2359808   \n",
      "                                                                 \n",
      " block5_conv4 (Conv2D)       (None, 14, 14, 512)       2359808   \n",
      "                                                                 \n",
      " block5_pool (MaxPooling2D)  (None, 7, 7, 512)         0         \n",
      "                                                                 \n",
      " flatten (Flatten)           (None, 25088)             0         \n",
      "                                                                 \n",
      " fc1 (Dense)                 (None, 4096)              102764544 \n",
      "                                                                 \n",
      " fc2 (Dense)                 (None, 4096)              16781312  \n",
      "                                                                 \n",
      " predictions (Dense)         (None, 1000)              4097000   \n",
      "                                                                 \n",
      "=================================================================\n",
      "Total params: 143,667,240\n",
      "Trainable params: 143,667,240\n",
      "Non-trainable params: 0\n",
      "_________________________________________________________________\n"
     ]
    }
   ],
   "source": [
    "model_vgg19.summary()"
   ]
  },
  {
   "cell_type": "code",
   "execution_count": 17,
   "metadata": {
    "id": "4_tHw3MIx7JP"
   },
   "outputs": [],
   "source": [
    "base_input4=model_vgg19.layers[0].input\n",
    "base_output4=model_vgg19.layers[-2].output\n",
    "\n",
    "final_output4 = layers.Dense(240)(base_output4)\n",
    "final_output4 = layers.Activation('relu')(final_output4)\n",
    "final_output4 = layers.Dense(128)(final_output4)\n",
    "final_output4 = layers.Activation('relu')(final_output4)\n",
    "final_output4 = layers.Dense(64)(final_output4)\n",
    "final_output4 = layers.Activation('relu')(final_output4)\n",
    "final_output4 = layers.Dense(5, activation='softmax')(final_output4)"
   ]
  },
  {
   "cell_type": "code",
   "execution_count": 18,
   "metadata": {
    "id": "mwiFa6cLyATx"
   },
   "outputs": [],
   "source": [
    "new_model_vgg19 = tf.keras.Model(inputs = base_input4, outputs = final_output4)"
   ]
  },
  {
   "cell_type": "code",
   "execution_count": 19,
   "metadata": {
    "id": "NgOSrcTOyAWd"
   },
   "outputs": [],
   "source": [
    "new_model_vgg19.compile(loss=\"sparse_categorical_crossentropy\", optimizer = \"SGD\", metrics = [\"accuracy\"])"
   ]
  },
  {
   "cell_type": "markdown",
   "metadata": {
    "id": "kozM10vfyIvc"
   },
   "source": [
    "## Train Model"
   ]
  },
  {
   "cell_type": "code",
   "execution_count": 20,
   "metadata": {
    "colab": {
     "base_uri": "https://localhost:8080/"
    },
    "id": "mfdcDfWyyGZq",
    "outputId": "235a4c2e-f249-444d-d68d-00a1e6b644f0"
   },
   "outputs": [
    {
     "name": "stdout",
     "output_type": "stream",
     "text": [
      "Epoch 1/20\n",
      "238/238 [==============================] - 3310s 14s/step - loss: 1.1481 - accuracy: 0.5130 - val_loss: 0.7869 - val_accuracy: 0.6686\n",
      "Epoch 2/20\n",
      "238/238 [==============================] - 3167s 13s/step - loss: 0.5680 - accuracy: 0.7927 - val_loss: 0.3533 - val_accuracy: 0.8745\n",
      "Epoch 3/20\n",
      "238/238 [==============================] - 3082s 13s/step - loss: 0.3409 - accuracy: 0.8763 - val_loss: 0.3199 - val_accuracy: 0.8876\n",
      "Epoch 4/20\n",
      "238/238 [==============================] - 3081s 13s/step - loss: 0.1991 - accuracy: 0.9284 - val_loss: 0.2018 - val_accuracy: 0.9252\n",
      "Epoch 5/20\n",
      "238/238 [==============================] - 3079s 13s/step - loss: 0.1311 - accuracy: 0.9549 - val_loss: 0.1816 - val_accuracy: 0.9373\n",
      "Epoch 6/20\n",
      "238/238 [==============================] - 3079s 13s/step - loss: 0.1249 - accuracy: 0.9607 - val_loss: 0.1746 - val_accuracy: 0.9383\n",
      "Epoch 7/20\n",
      "238/238 [==============================] - 3079s 13s/step - loss: 0.0339 - accuracy: 0.9903 - val_loss: 0.1897 - val_accuracy: 0.9409\n",
      "Epoch 8/20\n",
      "238/238 [==============================] - 3080s 13s/step - loss: 0.0234 - accuracy: 0.9938 - val_loss: 0.1704 - val_accuracy: 0.9462\n",
      "Epoch 9/20\n",
      "238/238 [==============================] - 3077s 13s/step - loss: 1.1071 - accuracy: 0.5794 - val_loss: 1.7469 - val_accuracy: 0.3335\n",
      "Epoch 10/20\n",
      "238/238 [==============================] - 3078s 13s/step - loss: 0.4510 - accuracy: 0.8417 - val_loss: 0.2263 - val_accuracy: 0.9216\n",
      "Epoch 11/20\n",
      "238/238 [==============================] - 3076s 13s/step - loss: 0.0848 - accuracy: 0.9728 - val_loss: 0.3596 - val_accuracy: 0.8897\n",
      "Epoch 12/20\n",
      "238/238 [==============================] - 3079s 13s/step - loss: 0.0662 - accuracy: 0.9812 - val_loss: 0.3278 - val_accuracy: 0.9033\n",
      "Epoch 13/20\n",
      "238/238 [==============================] - 3076s 13s/step - loss: 0.0226 - accuracy: 0.9949 - val_loss: 0.2353 - val_accuracy: 0.9315\n",
      "Epoch 14/20\n",
      "238/238 [==============================] - 3074s 13s/step - loss: 0.0468 - accuracy: 0.9869 - val_loss: 0.2201 - val_accuracy: 0.9305\n",
      "Epoch 15/20\n",
      "238/238 [==============================] - 3080s 13s/step - loss: 0.0150 - accuracy: 0.9968 - val_loss: 0.2296 - val_accuracy: 0.9352\n",
      "Epoch 16/20\n",
      "238/238 [==============================] - 3077s 13s/step - loss: 0.0033 - accuracy: 0.9992 - val_loss: 0.2084 - val_accuracy: 0.9451\n",
      "Epoch 17/20\n",
      "238/238 [==============================] - 3078s 13s/step - loss: 0.0014 - accuracy: 0.9997 - val_loss: 0.2265 - val_accuracy: 0.9420\n",
      "Epoch 18/20\n",
      "238/238 [==============================] - 3078s 13s/step - loss: 0.0014 - accuracy: 0.9997 - val_loss: 0.2098 - val_accuracy: 0.9425\n",
      "Epoch 19/20\n",
      "238/238 [==============================] - 3077s 13s/step - loss: 0.0012 - accuracy: 0.9997 - val_loss: 0.2171 - val_accuracy: 0.9441\n",
      "Epoch 20/20\n",
      "238/238 [==============================] - 3078s 13s/step - loss: 8.4873e-04 - accuracy: 0.9997 - val_loss: 0.2132 - val_accuracy: 0.9462\n"
     ]
    }
   ],
   "source": [
    "result_V=new_model_vgg19.fit(x_train, y_train, epochs = 20,validation_data=(x_test, y_test))"
   ]
  },
  {
   "cell_type": "markdown",
   "metadata": {
    "id": "5WSrn2-ZyMeS"
   },
   "source": [
    "## Accuracy"
   ]
  },
  {
   "cell_type": "code",
   "execution_count": 21,
   "metadata": {
    "colab": {
     "base_uri": "https://localhost:8080/",
     "height": 472
    },
    "id": "pxkhMvqhyOIq",
    "outputId": "a8f8c345-f7e7-4022-ab7f-59020cb8f712"
   },
   "outputs": [
    {
     "data": {
      "text/plain": [
       "<matplotlib.legend.Legend at 0x16151b1be50>"
      ]
     },
     "execution_count": 21,
     "metadata": {},
     "output_type": "execute_result"
    },
    {
     "data": {
      "image/png": "[encoded data removed]",
      "text/plain": [
       "<Figure size 640x480 with 1 Axes>"
      ]
     },
     "metadata": {},
     "output_type": "display_data"
    }
   ],
   "source": [
    "plt.plot(result_V.history['accuracy'], label='accuracy')\n",
    "plt.plot(result_V.history['val_accuracy'], label = 'val_accuracy')\n",
    "plt.xlabel('Epoch')\n",
    "plt.ylabel('Accuracy')\n",
    "plt.ylim([0, 1])\n",
    "plt.legend(loc='lower right')"
   ]
  },
  {
   "cell_type": "code",
   "execution_count": 22,
   "metadata": {
    "colab": {
     "base_uri": "https://localhost:8080/",
     "height": 472
    },
    "id": "CkCEdt5ZE9kI",
    "outputId": "36dd42a7-88a7-407e-dcbc-1ce9e06379c2"
   },
   "outputs": [
    {
     "data": {
      "text/plain": [
       "<matplotlib.legend.Legend at 0x161742de8b0>"
      ]
     },
     "execution_count": 22,
     "metadata": {},
     "output_type": "execute_result"
    },
    {
     "data": {
      "image/png": "[encoded data removed]",
      "text/plain": [
       "<Figure size 640x480 with 1 Axes>"
      ]
     },
     "metadata": {},
     "output_type": "display_data"
    }
   ],
   "source": [
    "plt.plot(result_V.history['loss'], label='loss')\n",
    "plt.plot(result_V.history['val_loss'], label = 'val_loss')\n",
    "plt.xlabel('Epoch')\n",
    "plt.ylabel('Loss')\n",
    "plt.ylim([0, 1])\n",
    "plt.legend(loc='upper right')"
   ]
  },
  {
   "cell_type": "code",
   "execution_count": 23,
   "metadata": {
    "colab": {
     "base_uri": "https://localhost:8080/"
    },
    "id": "YthRTwC_yOLF",
    "outputId": "5c878cd5-0a9d-468b-efbd-3777c780bdfa"
   },
   "outputs": [
    {
     "name": "stdout",
     "output_type": "stream",
     "text": [
      "60/60 [==============================] - 135s 2s/step - loss: 0.2132 - accuracy: 0.9462\n"
     ]
    }
   ],
   "source": [
    "loss , accuracy = new_model_vgg19.evaluate(x_test,y_test)"
   ]
  },
  {
   "cell_type": "code",
   "execution_count": 24,
   "metadata": {
    "colab": {
     "base_uri": "https://localhost:8080/"
    },
    "id": "W9rtq0WZ63yh",
    "outputId": "0553e2d3-dda9-4a03-bfff-66871037678a"
   },
   "outputs": [
    {
     "name": "stdout",
     "output_type": "stream",
     "text": [
      "60/60 [==============================] - 135s 2s/step\n"
     ]
    }
   ],
   "source": [
    "y_pred = new_model_vgg19.predict(x_test).round(2)"
   ]
  },
  {
   "cell_type": "code",
   "execution_count": 25,
   "metadata": {
    "colab": {
     "base_uri": "https://localhost:8080/",
     "height": 589
    },
    "id": "cwKUmO_f64H8",
    "outputId": "0f75af2c-0bb5-457f-f793-6b0e9db9a6ec"
   },
   "outputs": [
    {
     "name": "stdout",
     "output_type": "stream",
     "text": [
      "[[353  11   0   3   4]\n",
      " [ 14 347   2   5   3]\n",
      " [  0   2 361   1   9]\n",
      " [ 11   5   2 333   6]\n",
      " [  4   9  11   1 416]]\n"
     ]
    },
    {
     "data": {
      "text/plain": [
       "<Axes: >"
      ]
     },
     "execution_count": 25,
     "metadata": {},
     "output_type": "execute_result"
    },
    {
     "data": {
      "image/png": "[encoded data removed]",
      "text/plain": [
       "<Figure size 1600x900 with 2 Axes>"
      ]
     },
     "metadata": {},
     "output_type": "display_data"
    }
   ],
   "source": [
    "from sklearn.metrics import confusion_matrix\n",
    "import seaborn as sns\n",
    "\n",
    "\n",
    "plt.figure(figsize=(16,9))\n",
    "y_pred_labels = [np.argmax(label) for label in y_pred]\n",
    "cm = confusion_matrix(y_test, y_pred_labels)\n",
    "print(cm)\n",
    "\n",
    "sns.set(font_scale=1.5)\n",
    "sns.heatmap(cm, annot=True, fmt='d', xticklabels=classes, yticklabels=classes)"
   ]
  },
  {
   "cell_type": "code",
   "execution_count": 26,
   "metadata": {
    "colab": {
     "base_uri": "https://localhost:8080/"
    },
    "id": "sHZt-bwsKQI7",
    "outputId": "b78e5e1c-bbad-411f-81a9-e161e86b953b"
   },
   "outputs": [
    {
     "name": "stdout",
     "output_type": "stream",
     "text": [
      "              precision    recall  f1-score   support\n",
      "\n",
      "       Glass       0.92      0.95      0.94       371\n",
      "       Metal       0.93      0.94      0.93       371\n",
      "       Paper       0.96      0.97      0.96       373\n",
      "     Plastic       0.97      0.93      0.95       357\n",
      "       Trash       0.95      0.94      0.95       441\n",
      "\n",
      "    accuracy                           0.95      1913\n",
      "   macro avg       0.95      0.95      0.95      1913\n",
      "weighted avg       0.95      0.95      0.95      1913\n",
      "\n"
     ]
    }
   ],
   "source": [
    "from sklearn.metrics import classification_report\n",
    "cr= classification_report(y_test, y_pred_labels, target_names=classes)\n",
    "print(cr)"
   ]
  },
  {
   "cell_type": "code",
   "execution_count": null,
   "metadata": {
    "id": "eS3Gbs-mIX2E"
   },
   "outputs": [],
   "source": []
  },
  {
   "cell_type": "markdown",
   "metadata": {
    "id": "IuZzclfOfORe"
   },
   "source": [
    "# Save The Model"
   ]
  },
  {
   "cell_type": "code",
   "execution_count": 27,
   "metadata": {
    "id": "6GEye1scc9Tj"
   },
   "outputs": [],
   "source": [
    "# serialize model to JSON\n",
    "model_json = new_model_vgg19.to_json()\n",
    "with open(\"VGG_model.json\", \"w\") as json_file:\n",
    "    json_file.write(model_json)\n",
    "# serialize weights to HDF5\n",
    "new_model_vgg19.save_weights(\"VGG_model.h5\")"
   ]
  },
  {
   "cell_type": "code",
   "execution_count": null,
   "metadata": {
    "id": "MbDNdxNYc9Qu"
   },
   "outputs": [],
   "source": []
  },
  {
   "cell_type": "markdown",
   "metadata": {
    "id": "EtJF-mmmQeph"
   },
   "source": [
    "## Saving Model In Drive"
   ]
  },
  {
   "cell_type": "code",
   "execution_count": 28,
   "metadata": {
    "colab": {
     "base_uri": "https://localhost:8080/"
    },
    "id": "FGhPTCC8c9LN",
    "outputId": "ab1d38a6-2a8d-4988-d295-149fc7143b9c"
   },
   "outputs": [],
   "source": [
    "# from google.colab import drive\n",
    "# drive.mount('/content/gdrive')"
   ]
  },
  {
   "cell_type": "code",
   "execution_count": 29,
   "metadata": {
    "colab": {
     "base_uri": "https://localhost:8080/"
    },
    "id": "MLjmyMfXc8_u",
    "outputId": "3adcee01-65ad-431c-c6c6-a74a9eedc933"
   },
   "outputs": [],
   "source": [
    "# !ls \"/content/gdrive/My Drive\""
   ]
  },
  {
   "cell_type": "code",
   "execution_count": 30,
   "metadata": {
    "id": "WIek3JAGc8r7"
   },
   "outputs": [],
   "source": [
    "# model_json = new_model_vgg19.to_json()\n",
    "# with open(\"/content/gdrive/My Drive/Colab Notebooks/VGG2_model.json\", \"w\") as json_file:\n",
    "#     json_file.write(model_json)\n",
    "# # serialize weights to HDF5\n",
    "# new_model_vgg19.save_weights(\"/content/gdrive/My Drive/Colab Notebooks/VGG2_modell.h5\")"
   ]
  },
  {
   "cell_type": "code",
   "execution_count": 31,
   "metadata": {
    "colab": {
     "base_uri": "https://localhost:8080/"
    },
    "id": "SMyOzXUtRcok",
    "outputId": "2f86c1c7-b600-442d-940d-e3dab880af57"
   },
   "outputs": [],
   "source": [
    "# !ls \"/content/gdrive/My Drive/Colab Notebooks\""
   ]
  }
 ],
 "metadata": {
  "accelerator": "GPU",
  "colab": {
   "provenance": []
  },
  "kernelspec": {
   "display_name": "Python 3 (ipykernel)",
   "language": "python",
   "name": "python3"
  },
  "language_info": {
   "codemirror_mode": {
    "name": "ipython",
    "version": 3
   },
   "file_extension": ".py",
   "mimetype": "text/x-python",
   "name": "python",
   "nbconvert_exporter": "python",
   "pygments_lexer": "ipython3",
   "version": "3.8.0"
  }
 },
 "nbformat": 4,
 "nbformat_minor": 1
}
